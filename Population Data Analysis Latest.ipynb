{
 "cells": [
  {
   "cell_type": "code",
   "execution_count": 1,
   "id": "49fff900",
   "metadata": {},
   "outputs": [],
   "source": [
    "import pandas as pd\n",
    "import matplotlib.pyplot as plt\n",
    "import seaborn as sns\n",
    "import numpy as np "
   ]
  },
  {
   "cell_type": "code",
   "execution_count": null,
   "id": "34f02d00",
   "metadata": {},
   "outputs": [],
   "source": []
  },
  {
   "cell_type": "code",
   "execution_count": 2,
   "id": "eb38eb93",
   "metadata": {
    "scrolled": false
   },
   "outputs": [
    {
     "data": {
      "text/html": [
       "<div>\n",
       "<style scoped>\n",
       "    .dataframe tbody tr th:only-of-type {\n",
       "        vertical-align: middle;\n",
       "    }\n",
       "\n",
       "    .dataframe tbody tr th {\n",
       "        vertical-align: top;\n",
       "    }\n",
       "\n",
       "    .dataframe thead th {\n",
       "        text-align: right;\n",
       "    }\n",
       "</style>\n",
       "<table border=\"1\" class=\"dataframe\">\n",
       "  <thead>\n",
       "    <tr style=\"text-align: right;\">\n",
       "      <th></th>\n",
       "      <th>Year</th>\n",
       "      <th>Country</th>\n",
       "      <th>Population</th>\n",
       "      <th>Yearly % Change</th>\n",
       "      <th>Yearly Change</th>\n",
       "      <th>Migrants (net)</th>\n",
       "      <th>Median Age</th>\n",
       "      <th>Fertility Rate</th>\n",
       "      <th>Density (P/Km²)</th>\n",
       "      <th>Urban Pop %</th>\n",
       "      <th>Urban Population</th>\n",
       "      <th>Country's Share of World Pop %</th>\n",
       "      <th>World Population</th>\n",
       "      <th>Country Global Rank</th>\n",
       "    </tr>\n",
       "  </thead>\n",
       "  <tbody>\n",
       "    <tr>\n",
       "      <th>0</th>\n",
       "      <td>2020</td>\n",
       "      <td>China</td>\n",
       "      <td>1439323776</td>\n",
       "      <td>0.39</td>\n",
       "      <td>5540090</td>\n",
       "      <td>-348399.0</td>\n",
       "      <td>38.4</td>\n",
       "      <td>1.69</td>\n",
       "      <td>153</td>\n",
       "      <td>60.8</td>\n",
       "      <td>875075919.0</td>\n",
       "      <td>18.47</td>\n",
       "      <td>7794798739</td>\n",
       "      <td>1</td>\n",
       "    </tr>\n",
       "    <tr>\n",
       "      <th>1</th>\n",
       "      <td>2019</td>\n",
       "      <td>China</td>\n",
       "      <td>1433783686</td>\n",
       "      <td>0.43</td>\n",
       "      <td>6135900</td>\n",
       "      <td>-348399.0</td>\n",
       "      <td>37.0</td>\n",
       "      <td>1.65</td>\n",
       "      <td>153</td>\n",
       "      <td>59.7</td>\n",
       "      <td>856409297.0</td>\n",
       "      <td>18.59</td>\n",
       "      <td>7713468100</td>\n",
       "      <td>1</td>\n",
       "    </tr>\n",
       "    <tr>\n",
       "      <th>2</th>\n",
       "      <td>2018</td>\n",
       "      <td>China</td>\n",
       "      <td>1427647786</td>\n",
       "      <td>0.47</td>\n",
       "      <td>6625995</td>\n",
       "      <td>-348399.0</td>\n",
       "      <td>37.0</td>\n",
       "      <td>1.65</td>\n",
       "      <td>152</td>\n",
       "      <td>58.6</td>\n",
       "      <td>837022095.0</td>\n",
       "      <td>18.71</td>\n",
       "      <td>7631091040</td>\n",
       "      <td>1</td>\n",
       "    </tr>\n",
       "    <tr>\n",
       "      <th>3</th>\n",
       "      <td>2017</td>\n",
       "      <td>China</td>\n",
       "      <td>1421021791</td>\n",
       "      <td>0.49</td>\n",
       "      <td>6972440</td>\n",
       "      <td>-348399.0</td>\n",
       "      <td>37.0</td>\n",
       "      <td>1.65</td>\n",
       "      <td>151</td>\n",
       "      <td>57.5</td>\n",
       "      <td>816957613.0</td>\n",
       "      <td>18.83</td>\n",
       "      <td>7547858925</td>\n",
       "      <td>1</td>\n",
       "    </tr>\n",
       "    <tr>\n",
       "      <th>4</th>\n",
       "      <td>2016</td>\n",
       "      <td>China</td>\n",
       "      <td>1414049351</td>\n",
       "      <td>0.51</td>\n",
       "      <td>7201481</td>\n",
       "      <td>-348399.0</td>\n",
       "      <td>37.0</td>\n",
       "      <td>1.65</td>\n",
       "      <td>151</td>\n",
       "      <td>56.3</td>\n",
       "      <td>796289491.0</td>\n",
       "      <td>18.94</td>\n",
       "      <td>7464022049</td>\n",
       "      <td>1</td>\n",
       "    </tr>\n",
       "  </tbody>\n",
       "</table>\n",
       "</div>"
      ],
      "text/plain": [
       "   Year Country  Population  Yearly % Change  Yearly Change  Migrants (net)  \\\n",
       "0  2020   China  1439323776             0.39        5540090       -348399.0   \n",
       "1  2019   China  1433783686             0.43        6135900       -348399.0   \n",
       "2  2018   China  1427647786             0.47        6625995       -348399.0   \n",
       "3  2017   China  1421021791             0.49        6972440       -348399.0   \n",
       "4  2016   China  1414049351             0.51        7201481       -348399.0   \n",
       "\n",
       "   Median Age  Fertility Rate Density (P/Km²)  Urban Pop %  Urban Population  \\\n",
       "0        38.4            1.69             153         60.8       875075919.0   \n",
       "1        37.0            1.65             153         59.7       856409297.0   \n",
       "2        37.0            1.65             152         58.6       837022095.0   \n",
       "3        37.0            1.65             151         57.5       816957613.0   \n",
       "4        37.0            1.65             151         56.3       796289491.0   \n",
       "\n",
       "   Country's Share of World Pop %  World Population  Country Global Rank  \n",
       "0                           18.47        7794798739                    1  \n",
       "1                           18.59        7713468100                    1  \n",
       "2                           18.71        7631091040                    1  \n",
       "3                           18.83        7547858925                    1  \n",
       "4                           18.94        7464022049                    1  "
      ]
     },
     "execution_count": 2,
     "metadata": {},
     "output_type": "execute_result"
    }
   ],
   "source": [
    "df = pd.read_csv(\"PopulationDataset.csv\")\n",
    "df.head()"
   ]
  },
  {
   "cell_type": "code",
   "execution_count": 3,
   "id": "c80e99af",
   "metadata": {},
   "outputs": [
    {
     "name": "stdout",
     "output_type": "stream",
     "text": [
      "Year                                0\n",
      "Country                             0\n",
      "Population                          0\n",
      "Yearly % Change                     0\n",
      "Yearly Change                       0\n",
      "Migrants (net)                    595\n",
      "Median Age                        595\n",
      "Fertility Rate                    595\n",
      "Density (P/Km²)                     0\n",
      "Urban Pop %                       113\n",
      "Urban Population                  113\n",
      "Country's Share of World Pop %      0\n",
      "World Population                    0\n",
      "Country Global Rank                 0\n",
      "dtype: int64\n"
     ]
    }
   ],
   "source": [
    "#missing value\n",
    "print(df.isnull().sum())"
   ]
  },
  {
   "cell_type": "code",
   "execution_count": 4,
   "id": "16e3905c",
   "metadata": {},
   "outputs": [],
   "source": [
    "#splitting the dataframe based on the countries (Making a dataframe dictionary)\n",
    "\n",
    "Cnt = df.Country.unique()\n",
    "DataFrameDict = {elem : pd.DataFrame for elem in Cnt}\n",
    "for key in DataFrameDict.keys():\n",
    "  DataFrameDict[key] = df[:][df.Country == key]"
   ]
  },
  {
   "cell_type": "code",
   "execution_count": 5,
   "id": "e3eb8e1b",
   "metadata": {},
   "outputs": [],
   "source": [
    "#remaning the columns to allow selection\n",
    "d = {\"Urban Pop %\": 10, \"Urban Population\":11 }\n",
    "df = df.rename(columns=d)\n",
    "\n",
    "#interpolating the values for urban population and urban population percentage\n",
    "cols=[10,11]\n",
    "df[cols] = df[cols].interpolate()\n",
    "\n",
    "#changing the column names back to the original ones\n",
    "m = {10:\"Urban Pop %\",11:\"Urban Population\"}\n",
    "df = df.rename(columns=m)\n",
    "\n",
    "#dropping NaN values that can't be computed\n",
    "df=df.dropna()"
   ]
  },
  {
   "cell_type": "code",
   "execution_count": 6,
   "id": "b78e3a74",
   "metadata": {},
   "outputs": [
    {
     "data": {
      "text/plain": [
       "<AxesSubplot:>"
      ]
     },
     "execution_count": 6,
     "metadata": {},
     "output_type": "execute_result"
    },
    {
     "data": {
      "image/png": "[encoded data removed]",
      "text/plain": [
       "<Figure size 432x288 with 1 Axes>"
      ]
     },
     "metadata": {
      "needs_background": "light"
     },
     "output_type": "display_data"
    }
   ],
   "source": [
    "#checking for missing values using a heatmap\n",
    "sns.heatmap(df.isnull(), cbar=False)"
   ]
  },
  {
   "cell_type": "code",
   "execution_count": 7,
   "id": "1c45ed06",
   "metadata": {},
   "outputs": [
    {
     "data": {
      "text/html": [
       "<div>\n",
       "<style scoped>\n",
       "    .dataframe tbody tr th:only-of-type {\n",
       "        vertical-align: middle;\n",
       "    }\n",
       "\n",
       "    .dataframe tbody tr th {\n",
       "        vertical-align: top;\n",
       "    }\n",
       "\n",
       "    .dataframe thead th {\n",
       "        text-align: right;\n",
       "    }\n",
       "</style>\n",
       "<table border=\"1\" class=\"dataframe\">\n",
       "  <thead>\n",
       "    <tr style=\"text-align: right;\">\n",
       "      <th></th>\n",
       "      <th>Year</th>\n",
       "      <th>Country</th>\n",
       "      <th>Population</th>\n",
       "      <th>Yearly % Change</th>\n",
       "      <th>Yearly Change</th>\n",
       "      <th>Migrants (net)</th>\n",
       "      <th>Median Age</th>\n",
       "      <th>Fertility Rate</th>\n",
       "      <th>Density (P/Km²)</th>\n",
       "      <th>Urban Pop %</th>\n",
       "      <th>Urban Population</th>\n",
       "      <th>Country's Share of World Pop %</th>\n",
       "      <th>World Population</th>\n",
       "    </tr>\n",
       "  </thead>\n",
       "  <tbody>\n",
       "    <tr>\n",
       "      <th>0</th>\n",
       "      <td>2020</td>\n",
       "      <td>China</td>\n",
       "      <td>1439323776</td>\n",
       "      <td>0.39</td>\n",
       "      <td>5540090</td>\n",
       "      <td>-348399.0</td>\n",
       "      <td>38.4</td>\n",
       "      <td>1.69</td>\n",
       "      <td>153</td>\n",
       "      <td>60.8</td>\n",
       "      <td>875075919.0</td>\n",
       "      <td>18.47</td>\n",
       "      <td>7794798739</td>\n",
       "    </tr>\n",
       "    <tr>\n",
       "      <th>1</th>\n",
       "      <td>2019</td>\n",
       "      <td>China</td>\n",
       "      <td>1433783686</td>\n",
       "      <td>0.43</td>\n",
       "      <td>6135900</td>\n",
       "      <td>-348399.0</td>\n",
       "      <td>37.0</td>\n",
       "      <td>1.65</td>\n",
       "      <td>153</td>\n",
       "      <td>59.7</td>\n",
       "      <td>856409297.0</td>\n",
       "      <td>18.59</td>\n",
       "      <td>7713468100</td>\n",
       "    </tr>\n",
       "    <tr>\n",
       "      <th>2</th>\n",
       "      <td>2018</td>\n",
       "      <td>China</td>\n",
       "      <td>1427647786</td>\n",
       "      <td>0.47</td>\n",
       "      <td>6625995</td>\n",
       "      <td>-348399.0</td>\n",
       "      <td>37.0</td>\n",
       "      <td>1.65</td>\n",
       "      <td>152</td>\n",
       "      <td>58.6</td>\n",
       "      <td>837022095.0</td>\n",
       "      <td>18.71</td>\n",
       "      <td>7631091040</td>\n",
       "    </tr>\n",
       "    <tr>\n",
       "      <th>3</th>\n",
       "      <td>2017</td>\n",
       "      <td>China</td>\n",
       "      <td>1421021791</td>\n",
       "      <td>0.49</td>\n",
       "      <td>6972440</td>\n",
       "      <td>-348399.0</td>\n",
       "      <td>37.0</td>\n",
       "      <td>1.65</td>\n",
       "      <td>151</td>\n",
       "      <td>57.5</td>\n",
       "      <td>816957613.0</td>\n",
       "      <td>18.83</td>\n",
       "      <td>7547858925</td>\n",
       "    </tr>\n",
       "    <tr>\n",
       "      <th>4</th>\n",
       "      <td>2016</td>\n",
       "      <td>China</td>\n",
       "      <td>1414049351</td>\n",
       "      <td>0.51</td>\n",
       "      <td>7201481</td>\n",
       "      <td>-348399.0</td>\n",
       "      <td>37.0</td>\n",
       "      <td>1.65</td>\n",
       "      <td>151</td>\n",
       "      <td>56.3</td>\n",
       "      <td>796289491.0</td>\n",
       "      <td>18.94</td>\n",
       "      <td>7464022049</td>\n",
       "    </tr>\n",
       "    <tr>\n",
       "      <th>...</th>\n",
       "      <td>...</td>\n",
       "      <td>...</td>\n",
       "      <td>...</td>\n",
       "      <td>...</td>\n",
       "      <td>...</td>\n",
       "      <td>...</td>\n",
       "      <td>...</td>\n",
       "      <td>...</td>\n",
       "      <td>...</td>\n",
       "      <td>...</td>\n",
       "      <td>...</td>\n",
       "      <td>...</td>\n",
       "      <td>...</td>\n",
       "    </tr>\n",
       "    <tr>\n",
       "      <th>3612</th>\n",
       "      <td>1975</td>\n",
       "      <td>Antigua and Barbuda</td>\n",
       "      <td>62675</td>\n",
       "      <td>-0.47</td>\n",
       "      <td>-300</td>\n",
       "      <td>-1404.0</td>\n",
       "      <td>19.0</td>\n",
       "      <td>3.26</td>\n",
       "      <td>142</td>\n",
       "      <td>39.1</td>\n",
       "      <td>24503.0</td>\n",
       "      <td>0.00</td>\n",
       "      <td>4079480606</td>\n",
       "    </tr>\n",
       "    <tr>\n",
       "      <th>3613</th>\n",
       "      <td>1970</td>\n",
       "      <td>Antigua and Barbuda</td>\n",
       "      <td>64177</td>\n",
       "      <td>1.80</td>\n",
       "      <td>1096</td>\n",
       "      <td>-240.0</td>\n",
       "      <td>17.4</td>\n",
       "      <td>4.00</td>\n",
       "      <td>146</td>\n",
       "      <td>35.4</td>\n",
       "      <td>22692.0</td>\n",
       "      <td>0.00</td>\n",
       "      <td>3700437046</td>\n",
       "    </tr>\n",
       "    <tr>\n",
       "      <th>3614</th>\n",
       "      <td>1965</td>\n",
       "      <td>Antigua and Barbuda</td>\n",
       "      <td>58698</td>\n",
       "      <td>1.63</td>\n",
       "      <td>913</td>\n",
       "      <td>-376.0</td>\n",
       "      <td>17.8</td>\n",
       "      <td>4.30</td>\n",
       "      <td>133</td>\n",
       "      <td>37.9</td>\n",
       "      <td>22252.0</td>\n",
       "      <td>0.00</td>\n",
       "      <td>3339583597</td>\n",
       "    </tr>\n",
       "    <tr>\n",
       "      <th>3615</th>\n",
       "      <td>1960</td>\n",
       "      <td>Antigua and Barbuda</td>\n",
       "      <td>54131</td>\n",
       "      <td>1.74</td>\n",
       "      <td>897</td>\n",
       "      <td>-300.0</td>\n",
       "      <td>18.5</td>\n",
       "      <td>4.50</td>\n",
       "      <td>123</td>\n",
       "      <td>40.5</td>\n",
       "      <td>21945.0</td>\n",
       "      <td>0.00</td>\n",
       "      <td>3034949748</td>\n",
       "    </tr>\n",
       "    <tr>\n",
       "      <th>3616</th>\n",
       "      <td>1955</td>\n",
       "      <td>Antigua and Barbuda</td>\n",
       "      <td>49648</td>\n",
       "      <td>1.75</td>\n",
       "      <td>826</td>\n",
       "      <td>-195.0</td>\n",
       "      <td>18.8</td>\n",
       "      <td>4.50</td>\n",
       "      <td>113</td>\n",
       "      <td>37.2</td>\n",
       "      <td>18455.0</td>\n",
       "      <td>0.00</td>\n",
       "      <td>2773019936</td>\n",
       "    </tr>\n",
       "  </tbody>\n",
       "</table>\n",
       "<p>3600 rows × 13 columns</p>\n",
       "</div>"
      ],
      "text/plain": [
       "      Year              Country  Population  Yearly % Change  Yearly Change  \\\n",
       "0     2020                China  1439323776             0.39        5540090   \n",
       "1     2019                China  1433783686             0.43        6135900   \n",
       "2     2018                China  1427647786             0.47        6625995   \n",
       "3     2017                China  1421021791             0.49        6972440   \n",
       "4     2016                China  1414049351             0.51        7201481   \n",
       "...    ...                  ...         ...              ...            ...   \n",
       "3612  1975  Antigua and Barbuda       62675            -0.47           -300   \n",
       "3613  1970  Antigua and Barbuda       64177             1.80           1096   \n",
       "3614  1965  Antigua and Barbuda       58698             1.63            913   \n",
       "3615  1960  Antigua and Barbuda       54131             1.74            897   \n",
       "3616  1955  Antigua and Barbuda       49648             1.75            826   \n",
       "\n",
       "      Migrants (net)  Median Age  Fertility Rate Density (P/Km²)  Urban Pop %  \\\n",
       "0          -348399.0        38.4            1.69             153         60.8   \n",
       "1          -348399.0        37.0            1.65             153         59.7   \n",
       "2          -348399.0        37.0            1.65             152         58.6   \n",
       "3          -348399.0        37.0            1.65             151         57.5   \n",
       "4          -348399.0        37.0            1.65             151         56.3   \n",
       "...              ...         ...             ...             ...          ...   \n",
       "3612         -1404.0        19.0            3.26             142         39.1   \n",
       "3613          -240.0        17.4            4.00             146         35.4   \n",
       "3614          -376.0        17.8            4.30             133         37.9   \n",
       "3615          -300.0        18.5            4.50             123         40.5   \n",
       "3616          -195.0        18.8            4.50             113         37.2   \n",
       "\n",
       "      Urban Population  Country's Share of World Pop %  World Population  \n",
       "0          875075919.0                           18.47        7794798739  \n",
       "1          856409297.0                           18.59        7713468100  \n",
       "2          837022095.0                           18.71        7631091040  \n",
       "3          816957613.0                           18.83        7547858925  \n",
       "4          796289491.0                           18.94        7464022049  \n",
       "...                ...                             ...               ...  \n",
       "3612           24503.0                            0.00        4079480606  \n",
       "3613           22692.0                            0.00        3700437046  \n",
       "3614           22252.0                            0.00        3339583597  \n",
       "3615           21945.0                            0.00        3034949748  \n",
       "3616           18455.0                            0.00        2773019936  \n",
       "\n",
       "[3600 rows x 13 columns]"
      ]
     },
     "execution_count": 7,
     "metadata": {},
     "output_type": "execute_result"
    }
   ],
   "source": [
    "#dropping irrelevant data (country global ranking)\n",
    "df.drop(['Country Global Rank'], axis = 1)"
   ]
  },
  {
   "cell_type": "code",
   "execution_count": 8,
   "id": "76f6507f",
   "metadata": {},
   "outputs": [
    {
     "data": {
      "text/plain": [
       "0       153.0\n",
       "1       153.0\n",
       "2       152.0\n",
       "3       151.0\n",
       "4       151.0\n",
       "        ...  \n",
       "3612    142.0\n",
       "3613    146.0\n",
       "3614    133.0\n",
       "3615    123.0\n",
       "3616    113.0\n",
       "Name: Density (P/Km²), Length: 3600, dtype: float64"
      ]
     },
     "execution_count": 8,
     "metadata": {},
     "output_type": "execute_result"
    }
   ],
   "source": [
    "#Density column is of type object, hence converting to float\n",
    "def convert_me(val):\n",
    "  new_val = val.replace(',','')\n",
    "  return float(new_val)\n",
    "\n",
    "df['Density (P/Km²)'].apply(convert_me)"
   ]
  },
  {
   "cell_type": "code",
   "execution_count": 9,
   "id": "ce0e0a0c",
   "metadata": {},
   "outputs": [
    {
     "data": {
      "image/png": "[encoded data removed]",
      "text/plain": [
       "<Figure size 432x288 with 1 Axes>"
      ]
     },
     "metadata": {
      "needs_background": "light"
     },
     "output_type": "display_data"
    }
   ],
   "source": [
    "#Fertility Rate Histogram over the years in Senegal\n",
    "\n",
    "df2 = df[df['Country']=='Senegal'].iloc[::-1]\n",
    "\n",
    "df2.hist(column = 'Fertility Rate')\n",
    "plt.xlabel('Fertility Rate')\n",
    "plt.ylabel('Frequency')\n",
    "plt.title('Fertility Rate Histogram over the years in Senegal')\n",
    "\n",
    "plt.show()"
   ]
  },
  {
   "cell_type": "code",
   "execution_count": 10,
   "id": "ac31ef23",
   "metadata": {},
   "outputs": [
    {
     "data": {
      "image/png": "[encoded data removed]",
      "text/plain": [
       "<Figure size 432x288 with 1 Axes>"
      ]
     },
     "metadata": {
      "needs_background": "light"
     },
     "output_type": "display_data"
    }
   ],
   "source": [
    "#Median Age Histogram over the years in Japan\n",
    "\n",
    "df3 = df[df['Country']=='Japan'].iloc[::-1]\n",
    "\n",
    "df3.hist(column = 'Median Age')\n",
    "plt.xlabel('Median Age')\n",
    "plt.ylabel('Frequency')\n",
    "plt.title('Median Age Histogram over the years in Japan')\n",
    "\n",
    "plt.show()"
   ]
  },
  {
   "cell_type": "code",
   "execution_count": 11,
   "id": "3270ecc5",
   "metadata": {},
   "outputs": [
    {
     "data": {
      "image/png": "[encoded data removed]",
      "text/plain": [
       "<Figure size 432x288 with 1 Axes>"
      ]
     },
     "metadata": {
      "needs_background": "light"
     },
     "output_type": "display_data"
    }
   ],
   "source": [
    "#Bar Chart for Density (P/Km²) vs Yearly Change over the years in India\n",
    "\n",
    "x = df[df['Country']=='India']['Density (P/Km²)'].iloc[::-1]\n",
    "y = df[df['Country']=='India']['Yearly Change']\n",
    "\n",
    "plt.xlabel('Density (P/Km²)')\n",
    "plt.ylabel('Yearly Change')\n",
    "plt.title('Density (P/Km²) vs Yearly Change over the years in India')\n",
    "plt.gcf().axes[0].yaxis.get_major_formatter().set_scientific(False)\n",
    "plt.bar(x,y)\n",
    "\n",
    "plt.show()"
   ]
  },
  {
   "cell_type": "code",
   "execution_count": 12,
   "id": "0a98290e",
   "metadata": {},
   "outputs": [
    {
     "data": {
      "image/png": "[encoded data removed]",
      "text/plain": [
       "<Figure size 720x360 with 1 Axes>"
      ]
     },
     "metadata": {
      "needs_background": "light"
     },
     "output_type": "display_data"
    }
   ],
   "source": [
    "#Bar Chart for Population and Urban Population over the years in Ukraine\n",
    "\n",
    "barWidth = 0.35\n",
    "r1 = np.arange(len(df[df['Country']=='India']['Population']))\n",
    "r2 = [x + barWidth for x in r1]\n",
    "\n",
    "labels = np.arange(1955, 2020, 5)\n",
    "labels = np.append(labels, [2016, 2017, 2018, 2019, 2020])\n",
    "x= np.arange(len(labels))\n",
    "\n",
    "fig, ax = plt.subplots(figsize = (10, 5))\n",
    "\n",
    "rect1= ax.bar(r1, df[df['Country']=='Ukraine']['Population'], width = barWidth, label='Population')\n",
    "rec2= ax.bar(r2, df[df['Country']=='Ukraine']['Urban Population'], width = barWidth, label='Urban Population')\n",
    "\n",
    "plt.gcf().axes[0].yaxis.get_major_formatter().set_scientific(False)\n",
    "plt.gcf().axes[0].xaxis.get_major_formatter().set_scientific(False)\n",
    "\n",
    "ax.legend()\n",
    "ax.set_xticks(x)\n",
    "ax.set_xticklabels(labels)\n",
    "\n",
    "ax.set_xlabel('Years')\n",
    "ax.set_ylabel('Population')\n",
    "ax.set_title('Population and Urban Population over the years in Ukraine')\n",
    "\n",
    "plt.show()"
   ]
  },
  {
   "cell_type": "code",
   "execution_count": 13,
   "id": "c9a7e452",
   "metadata": {},
   "outputs": [
    {
     "data": {
      "image/png": "[encoded data removed]",
      "text/plain": [
       "<Figure size 432x288 with 1 Axes>"
      ]
     },
     "metadata": {
      "needs_background": "light"
     },
     "output_type": "display_data"
    }
   ],
   "source": [
    "#Bar Chart for Population Density over the years in the USA\n",
    "\n",
    "x = df[df['Country'] == 'United States']['Year'][::-1]\n",
    "x.drop([37, 38, 39,40], axis = 0,inplace=True)\n",
    "\n",
    "y = df[df['Country'] == 'United States']['Density (P/Km²)'][::-1]\n",
    "y.drop([37, 38, 39,40], axis = 0,inplace=True)\n",
    "\n",
    "plt.bar(x,y, width = 1.5)\n",
    "\n",
    "plt.xlabel('Years')\n",
    "plt.ylabel('Population Density')\n",
    "plt.title('Population Density over the years in the US')\n",
    "\n",
    "plt.show()"
   ]
  },
  {
   "cell_type": "code",
   "execution_count": 14,
   "id": "7b01e335",
   "metadata": {},
   "outputs": [
    {
     "data": {
      "image/png": "[encoded data removed]",
      "text/plain": [
       "<Figure size 720x360 with 1 Axes>"
      ]
     },
     "metadata": {
      "needs_background": "light"
     },
     "output_type": "display_data"
    }
   ],
   "source": [
    "#Bar Chart for Fertility Rate vs Yearly % Change in Sweden\n",
    "\n",
    "labels = np.arange(1955, 2020, 5)\n",
    "labels = np.append(labels, [2016, 2017, 2018, 2019, 2020])\n",
    "\n",
    "x = np.arange(len(labels))\n",
    "width = 0.35\n",
    "fig, ax = plt.subplots(figsize = (10, 5))\n",
    "\n",
    "rect1 = ax.bar(x-width/2, df[df['Country'] == 'Sweden']['Fertility Rate'], width, label = 'Fertility Rate')\n",
    "rect2 = ax.bar(x+width/2, df[df['Country'] == 'Sweden']['Yearly % Change'], width, label = 'Yearly  % Change')\n",
    "\n",
    "ax.set_ylabel('Rates')\n",
    "ax.set_title('Fertility Rates and Yearly % Change in Population over the years')\n",
    "ax.set_xticks(x)\n",
    "ax.set_xticklabels(labels)\n",
    "ax.legend()\n",
    "\n",
    "fig.tight_layout()\n",
    "\n",
    "plt.show()"
   ]
  },
  {
   "cell_type": "code",
   "execution_count": 15,
   "id": "82512df9",
   "metadata": {},
   "outputs": [
    {
     "data": {
      "image/png": "[encoded data removed]",
      "text/plain": [
       "<Figure size 432x288 with 1 Axes>"
      ]
     },
     "metadata": {
      "needs_background": "light"
     },
     "output_type": "display_data"
    }
   ],
   "source": [
    "#Box Plot for Fertility Rate of all countries\n",
    "\n",
    "plt.boxplot(df['Fertility Rate'])\n",
    "plt.title('Box Plot for Fertility Rate')\n",
    "plt.xticks([])\n",
    "plt.show()"
   ]
  },
  {
   "cell_type": "code",
   "execution_count": 16,
   "id": "8f7b6568",
   "metadata": {},
   "outputs": [
    {
     "data": {
      "image/png": "[encoded data removed]",
      "text/plain": [
       "<Figure size 432x288 with 1 Axes>"
      ]
     },
     "metadata": {
      "needs_background": "light"
     },
     "output_type": "display_data"
    }
   ],
   "source": [
    "#Box Plot for Median Age of all countries\n",
    "\n",
    "plt.boxplot(df['Median Age'])\n",
    "plt.title('Box Plot for Median Age')\n",
    "\n",
    "plt.show()"
   ]
  },
  {
   "cell_type": "code",
   "execution_count": 17,
   "id": "11e53ecd",
   "metadata": {},
   "outputs": [],
   "source": [
    "df1 = df[df.Country == 'Germany']"
   ]
  },
  {
   "cell_type": "code",
   "execution_count": 18,
   "id": "2f80a9c5",
   "metadata": {},
   "outputs": [
    {
     "name": "stderr",
     "output_type": "stream",
     "text": [
      "C:\\Users\\rafay\\AppData\\Local\\Temp\\ipykernel_10864\\2131318748.py:28: DeprecationWarning: `np.float` is a deprecated alias for the builtin `float`. To silence this warning, use `float` by itself. Doing this will not modify any behavior and is safe. If you specifically wanted the numpy scalar type, use `np.float64` here.\n",
      "Deprecated in NumPy 1.20; for more details and guidance: https://numpy.org/devdocs/release/1.20.0-notes.html#deprecations\n",
      "  density = getValues(np.array(list(df1['Density (P/Km²)'])).astype(np.float))\n"
     ]
    }
   ],
   "source": [
    "def getZscore(array):\n",
    "  return (array - array.mean(axis=0)) / array.std(axis=0)\n",
    "\n",
    "def getPvalue(array):\n",
    "  return scipy.stats.norm.sf(abs(array)) *2\n",
    "\n",
    "def normalize(array):\n",
    "  newArray = (array - array.min()) / (array.max() - array.min())\n",
    "  return newArray\n",
    "\n",
    "def getValues(array):\n",
    "  values = {'mean':array.mean(), 'variance':array.var(), 'normalized': normalize(array), 'z-score': getZscore(array)}\n",
    "  normArr = values['normalized']\n",
    "  values['normMean'] = round(normArr.mean(), 3)\n",
    "  values['normVar'] = round(normArr.var(), 3)\n",
    "  values['pValue']: getPvalue(values['z-score'])\n",
    "  zscoreArr =  values['z-score']\n",
    "  values['stdMean'] = round(zscoreArr.mean(), 3)\n",
    "  values['stdVar'] = round(zscoreArr.var(), 3)\n",
    "  return values\n",
    "\n",
    "pop = getValues(np.array(list(df1['Population'])))\n",
    "percChange = getValues(np.array(list(df1['Yearly % Change'])))\n",
    "change = getValues(np.array(list(df1['Yearly Change'])))\n",
    "migrants = getValues(np.array(list(df1['Migrants (net)'])))\n",
    "medianAge = getValues(np.array(list(df1['Median Age'])))\n",
    "fertility = getValues(np.array(list(df1['Fertility Rate'])))\n",
    "density = getValues(np.array(list(df1['Density (P/Km²)'])).astype(np.float))\n",
    "urbanPopPerc = getValues(np.array(list(df1['Urban Pop %'])))\n",
    "urbanPop = getValues(np.array(list(df1['Urban Population'])))\n",
    "worldPopShare = getValues(np.array(list(df1['Country\\'s Share of World Pop %'])))\n",
    "worldPop = getValues(np.array(list(df1['World Population'])))"
   ]
  },
  {
   "cell_type": "code",
   "execution_count": 19,
   "id": "7187440a",
   "metadata": {
    "scrolled": true
   },
   "outputs": [
    {
     "name": "stdout",
     "output_type": "stream",
     "text": [
      "MEAN\n",
      "Population: 79761506.1111111\n",
      "Yearly % Change: 0.30833333333333335\n",
      "Yearly Change: 242264.77777777778\n",
      "Migrants (net): 265542.8333333333\n",
      "Median Age: 40.25000000000001\n",
      "Fertility Rate: 1.642222222222222\n",
      "Density (P/Km²): 228.88888888888889\n",
      "Urban Pop %: 74.38333333333335\n",
      "Urban Population: 59395354.38888889\n",
      "Country's Share of World Pop %: 1.5477777777777777\n",
      "World Population: 5694505592.888889\n",
      "\n",
      "\n",
      "VARIANCE\n",
      "Population: 11027918710644.988\n",
      "Yearly % Change: 0.08075833333333333\n",
      "Yearly Change: 49402008954.28396\n",
      "Migrants (net): 48195961985.58334\n",
      "Median Age: 22.353611111111107\n",
      "Fertility Rate: 0.1378283950617284\n",
      "Density (P/Km²): 90.4320987654321\n",
      "Urban Pop %: 5.1524999999999945\n",
      "Urban Population: 17182719931292.125\n",
      "Country's Share of World Pop %: 0.24708395061728394\n",
      "World Population: 3.01335681756436e+18\n"
     ]
    }
   ],
   "source": [
    "print('MEAN')\n",
    "print('Population:', pop['mean'])\n",
    "print('Yearly % Change:', percChange['mean'])\n",
    "print('Yearly Change:', change['mean'])\n",
    "print('Migrants (net):', migrants['mean'])\n",
    "print('Median Age:', medianAge['mean'])\n",
    "print('Fertility Rate:', fertility['mean'])\n",
    "print('Density (P/Km²):', density['mean'])\n",
    "print('Urban Pop %:', urbanPopPerc['mean'])\n",
    "print('Urban Population:', urbanPop['mean'])\n",
    "print('Country\\'s Share of World Pop %:', worldPopShare['mean'])\n",
    "print('World Population:', worldPop['mean'])\n",
    "\n",
    "print('\\n')\n",
    "\n",
    "print('VARIANCE')\n",
    "print('Population:', pop['variance'])\n",
    "print('Yearly % Change:', percChange['variance'])\n",
    "print('Yearly Change:', change['variance'])\n",
    "print('Migrants (net):', migrants['variance'])\n",
    "print('Median Age:', medianAge['variance'])\n",
    "print('Fertility Rate:', fertility['variance'])\n",
    "print('Density (P/Km²):', density['variance'])\n",
    "print('Urban Pop %:', urbanPopPerc['variance'])\n",
    "print('Urban Population:', urbanPop['variance'])\n",
    "print('Country\\'s Share of World Pop %:', worldPopShare['variance'])\n",
    "print('World Population:', worldPop['variance'])"
   ]
  },
  {
   "cell_type": "code",
   "execution_count": 20,
   "id": "e9fb59f5",
   "metadata": {},
   "outputs": [
    {
     "name": "stdout",
     "output_type": "stream",
     "text": [
      "NORMALIZED MEAN\n",
      "Population: 0.672\n",
      "Yearly % Change: 0.525\n",
      "Yearly Change: 0.549\n",
      "Migrants (net): 0.496\n",
      "Median Age: 0.517\n",
      "Fertility Rate: 0.292\n",
      "Density (P/Km²): 0.683\n",
      "Urban Pop %: 0.633\n",
      "Urban Population: 0.678\n",
      "Country's Share of World Pop %: 0.316\n",
      "World Population: 0.582\n",
      "\n",
      "\n",
      "NORMALIZED VARIANCE\n",
      "Population: 0.074\n",
      "Yearly % Change: 0.089\n",
      "Yearly Change: 0.094\n",
      "Migrants (net): 0.158\n",
      "Median Age: 0.163\n",
      "Fertility Rate: 0.101\n",
      "Density (P/Km²): 0.074\n",
      "Urban Pop %: 0.094\n",
      "Urban Population: 0.087\n",
      "Country's Share of World Pop %: 0.108\n",
      "World Population: 0.119\n"
     ]
    }
   ],
   "source": [
    "print('NORMALIZED MEAN')\n",
    "print('Population:', pop['normMean'])\n",
    "print('Yearly % Change:', percChange['normMean'])\n",
    "print('Yearly Change:', change['normMean'])\n",
    "print('Migrants (net):', migrants['normMean'])\n",
    "print('Median Age:', medianAge['normMean'])\n",
    "print('Fertility Rate:', fertility['normMean'])\n",
    "print('Density (P/Km²):', density['normMean'])\n",
    "print('Urban Pop %:', urbanPopPerc['normMean'])\n",
    "print('Urban Population:', urbanPop['normMean'])\n",
    "print('Country\\'s Share of World Pop %:', worldPopShare['normMean'])\n",
    "print('World Population:', worldPop['normMean'])\n",
    "\n",
    "print('\\n')\n",
    "\n",
    "print('NORMALIZED VARIANCE')\n",
    "print('Population:', pop['normVar'])\n",
    "print('Yearly % Change:', percChange['normVar'])\n",
    "print('Yearly Change:', change['normVar'])\n",
    "print('Migrants (net):', migrants['normVar'])\n",
    "print('Median Age:', medianAge['normVar'])\n",
    "print('Fertility Rate:', fertility['normVar'])\n",
    "print('Density (P/Km²):', density['normVar'])\n",
    "print('Urban Pop %:', urbanPopPerc['normVar'])\n",
    "print('Urban Population:', urbanPop['normVar'])\n",
    "print('Country\\'s Share of World Pop %:', worldPopShare['normVar'])\n",
    "print('World Population:', worldPop['normVar'])"
   ]
  },
  {
   "cell_type": "code",
   "execution_count": 21,
   "id": "28a0da10",
   "metadata": {},
   "outputs": [
    {
     "name": "stdout",
     "output_type": "stream",
     "text": [
      "STANDARDIZED MEAN\n",
      "Population: 0.0\n",
      "Yearly % Change: -0.0\n",
      "Yearly Change: 0.0\n",
      "Migrants (net): 0.0\n",
      "Median Age: -0.0\n",
      "Fertility Rate: 0.0\n",
      "Density (P/Km²): 0.0\n",
      "Urban Pop %: -0.0\n",
      "Urban Population: 0.0\n",
      "Country's Share of World Pop %: 0.0\n",
      "World Population: -0.0\n",
      "\n",
      "\n",
      "STANDARDIZED VARIANCE\n",
      "Population: 1.0\n",
      "Yearly % Change: 1.0\n",
      "Yearly Change: 1.0\n",
      "Migrants (net): 1.0\n",
      "Median Age: 1.0\n",
      "Fertility Rate: 1.0\n",
      "Density (P/Km²): 1.0\n",
      "Urban Pop %: 1.0\n",
      "Urban Population: 1.0\n",
      "Country's Share of World Pop %: 1.0\n",
      "World Population: 1.0\n"
     ]
    }
   ],
   "source": [
    "print('STANDARDIZED MEAN')\n",
    "print('Population:', pop['stdMean'])\n",
    "print('Yearly % Change:', percChange['stdMean'])\n",
    "print('Yearly Change:', change['stdMean'])\n",
    "print('Migrants (net):', migrants['stdMean'])\n",
    "print('Median Age:', medianAge['stdMean'])\n",
    "print('Fertility Rate:', fertility['stdMean'])\n",
    "print('Density (P/Km²):', density['stdMean'])\n",
    "print('Urban Pop %:', urbanPopPerc['stdMean'])\n",
    "print('Urban Population:', urbanPop['stdMean'])\n",
    "print('Country\\'s Share of World Pop %:', worldPopShare['stdMean'])\n",
    "print('World Population:', worldPop['stdMean'])\n",
    "\n",
    "print('\\n')\n",
    "\n",
    "print('STANDARDIZED VARIANCE')\n",
    "print('Population:', pop['stdVar'])\n",
    "print('Yearly % Change:', percChange['stdVar'])\n",
    "print('Yearly Change:', change['stdVar'])\n",
    "print('Migrants (net):', migrants['stdVar'])\n",
    "print('Median Age:', medianAge['stdVar'])\n",
    "print('Fertility Rate:', fertility['stdVar'])\n",
    "print('Density (P/Km²):', density['stdVar'])\n",
    "print('Urban Pop %:', urbanPopPerc['stdVar'])\n",
    "print('Urban Population:', urbanPop['stdVar'])\n",
    "print('Country\\'s Share of World Pop %:', worldPopShare['stdVar'])\n",
    "print('World Population:', worldPop['stdVar'])"
   ]
  },
  {
   "cell_type": "code",
   "execution_count": 22,
   "id": "3693a75c",
   "metadata": {},
   "outputs": [
    {
     "data": {
      "image/png": "[encoded data removed]",
      "text/plain": [
       "<Figure size 720x360 with 1 Axes>"
      ]
     },
     "metadata": {
      "needs_background": "light"
     },
     "output_type": "display_data"
    }
   ],
   "source": [
    "labels = np.array(df1['Year'])\n",
    "\n",
    "x = np.arange(len(labels))\n",
    "width = 0.35\n",
    "fig, ax = plt.subplots(figsize = (10, 5))\n",
    "\n",
    "rect1 = ax.bar(x-width/2, df1['Fertility Rate'], width, label = 'Fertility Rate')\n",
    "rect2 = ax.bar(x+width/2, df1['Yearly % Change'], width, label = 'Yearly  % Change')\n",
    "\n",
    "ax.set_ylabel('Rates')\n",
    "ax.set_xlabel('Year')\n",
    "ax.set_title('Fertility Rate and Yearly % Change in Population over the years')\n",
    "ax.set_xticks(x)\n",
    "ax.set_xticklabels(labels)\n",
    "ax.invert_xaxis()\n",
    "ax.legend()\n",
    "\n",
    "plt.show()"
   ]
  },
  {
   "cell_type": "code",
   "execution_count": 23,
   "id": "7ba9cd62",
   "metadata": {},
   "outputs": [
    {
     "data": {
      "image/png": "[encoded data removed]",
      "text/plain": [
       "<Figure size 720x360 with 1 Axes>"
      ]
     },
     "metadata": {
      "needs_background": "light"
     },
     "output_type": "display_data"
    }
   ],
   "source": [
    "labels = np.array(df1['Year'])\n",
    "\n",
    "x = np.arange(len(labels))\n",
    "width = 0.35\n",
    "fig, ax = plt.subplots(figsize = (10, 5))\n",
    "\n",
    "rect1 = ax.bar(x-width/2, fertility['normalized'], width, label = 'Fertility Rate')\n",
    "rect2 = ax.bar(x+width/2, percChange['normalized'], width, label = 'Yearly  % Change')\n",
    "\n",
    "ax.set_ylabel('Rates')\n",
    "ax.set_xlabel('Year')\n",
    "ax.set_title('Normalized Fertility Rate and Yearly % Change in Population over the years')\n",
    "ax.set_xticks(x)\n",
    "ax.set_xticklabels(labels)\n",
    "ax.invert_xaxis()\n",
    "ax.legend()\n",
    "\n",
    "plt.show()"
   ]
  },
  {
   "cell_type": "code",
   "execution_count": 24,
   "id": "66236d56",
   "metadata": {},
   "outputs": [
    {
     "data": {
      "image/png": "[encoded data removed]",
      "text/plain": [
       "<Figure size 432x288 with 1 Axes>"
      ]
     },
     "metadata": {
      "needs_background": "light"
     },
     "output_type": "display_data"
    }
   ],
   "source": [
    "plt.boxplot(fertility['normalized'])\n",
    "plt.xticks([])\n",
    "plt.ylabel('Normalized Fertility Rate')\n",
    "plt.show()"
   ]
  },
  {
   "cell_type": "code",
   "execution_count": 25,
   "id": "bfa59418",
   "metadata": {},
   "outputs": [
    {
     "data": {
      "image/png": "[encoded data removed]",
      "text/plain": [
       "<Figure size 432x288 with 1 Axes>"
      ]
     },
     "metadata": {
      "needs_background": "light"
     },
     "output_type": "display_data"
    }
   ],
   "source": [
    "plt.boxplot(percChange['normalized'])\n",
    "plt.xticks([])\n",
    "plt.ylabel('Normalized Yearly % Change')\n",
    "plt.show()"
   ]
  },
  {
   "cell_type": "code",
   "execution_count": 26,
   "id": "10d35b23",
   "metadata": {},
   "outputs": [
    {
     "data": {
      "image/png": "[encoded data removed]",
      "text/plain": [
       "<Figure size 432x288 with 1 Axes>"
      ]
     },
     "metadata": {
      "needs_background": "light"
     },
     "output_type": "display_data"
    }
   ],
   "source": [
    "#Median Age vs Fertility Rate Worldwide\n",
    "\n",
    "plt.scatter(df['Median Age'], df['Fertility Rate'])\n",
    "plt.xlabel('Median Age')\n",
    "plt.ylabel('Fertility Rate')\n",
    "plt.title('Median Age vs Fertility Rate')\n",
    "plt.show()"
   ]
  },
  {
   "cell_type": "code",
   "execution_count": 27,
   "id": "9bc4aaca",
   "metadata": {},
   "outputs": [
    {
     "data": {
      "image/png": "[encoded data removed]",
      "text/plain": [
       "<Figure size 432x288 with 1 Axes>"
      ]
     },
     "metadata": {
      "needs_background": "light"
     },
     "output_type": "display_data"
    }
   ],
   "source": [
    "#Fertility Rate and Yearly % Change for 2015 \n",
    "\n",
    "x = df[df['Year'] == 2015]['Fertility Rate']\n",
    "y = df[df['Year'] == 2015]['Yearly % Change']\n",
    "\n",
    "plt.scatter(x, y) \n",
    "plt.xlabel('Fertility Rate')\n",
    "plt.ylabel('Yearly % Change')\n",
    "plt.title('Fertility Rate vs Yearly % Change')\n",
    "plt.show()"
   ]
  },
  {
   "cell_type": "code",
   "execution_count": 28,
   "id": "a43ff7be",
   "metadata": {},
   "outputs": [
    {
     "data": {
      "image/png": "[encoded data removed]",
      "text/plain": [
       "<Figure size 432x288 with 1 Axes>"
      ]
     },
     "metadata": {
      "needs_background": "light"
     },
     "output_type": "display_data"
    }
   ],
   "source": [
    "df_nz = DataFrameDict['New Zealand'].iloc[::-1]\n",
    "\n",
    "plt.scatter(df_nz['Population'],df_nz['Density (P/Km²)'])\n",
    "plt.gcf().axes[0].xaxis.get_major_formatter().set_scientific(False)\n",
    "\n",
    "plt.xlabel('Population')\n",
    "plt.ylabel('Population Density')\n",
    "plt.title('Population vs Population Density in New Zealand')\n",
    "plt.show()"
   ]
  },
  {
   "cell_type": "code",
   "execution_count": 29,
   "id": "6b57eb53",
   "metadata": {},
   "outputs": [
    {
     "data": {
      "image/png": "[encoded data removed]",
      "text/plain": [
       "<Figure size 432x288 with 1 Axes>"
      ]
     },
     "metadata": {
      "needs_background": "light"
     },
     "output_type": "display_data"
    }
   ],
   "source": [
    "df_germany = df[df['Country']=='Germany']\n",
    "\n",
    "plt.scatter(df_germany['Fertility Rate'],df_germany['Median Age'])\n",
    "plt.xlabel('Fertility Rate')\n",
    "plt.ylabel('Median Age')\n",
    "plt.title('Fertility Rate vs Median Age in Germany')\n",
    "plt.show()"
   ]
  },
  {
   "cell_type": "code",
   "execution_count": 30,
   "id": "4a094b6c",
   "metadata": {},
   "outputs": [
    {
     "data": {
      "image/png": "[encoded data removed]",
      "text/plain": [
       "<Figure size 432x288 with 1 Axes>"
      ]
     },
     "metadata": {
      "needs_background": "light"
     },
     "output_type": "display_data"
    }
   ],
   "source": [
    "plt.scatter(df_germany['Population'], df_germany['Urban Population'])\n",
    "plt.xlabel('Population')\n",
    "plt.ylabel('Urban Population')\n",
    "plt.title('Population vs Urban Population in Germany')\n",
    "plt.gcf().axes[0].xaxis.get_major_formatter().set_scientific(False)\n",
    "plt.gcf().axes[0].yaxis.get_major_formatter().set_scientific(False)\n",
    "plt.show()"
   ]
  },
  {
   "cell_type": "code",
   "execution_count": 31,
   "id": "170baeb4",
   "metadata": {},
   "outputs": [
    {
     "data": {
      "image/png": "[encoded data removed]",
      "text/plain": [
       "<Figure size 432x288 with 1 Axes>"
      ]
     },
     "metadata": {
      "needs_background": "light"
     },
     "output_type": "display_data"
    }
   ],
   "source": [
    "df_mol = df[df['Country']=='Moldova']\n",
    "\n",
    "plt.scatter(df_mol['Migrants (net)'], df_mol['Density (P/Km²)'].iloc[::-1])\n",
    "plt.xlabel('Migrants (net)')\n",
    "plt.ylabel('Density (P/Km²)')\n",
    "plt.title('Migrants (net) vs Density (P/Km²) in Moldova')\n",
    "plt.gcf().axes[0].xaxis.get_major_formatter().set_scientific(False)\n",
    "#plt.gcf().axes[0].yaxis.get_major_formatter().set_scientific(False)\n",
    "plt.show()"
   ]
  },
  {
   "cell_type": "code",
   "execution_count": 32,
   "id": "33af8b05",
   "metadata": {},
   "outputs": [
    {
     "data": {
      "image/png": "[encoded data removed]",
      "text/plain": [
       "<Figure size 432x288 with 1 Axes>"
      ]
     },
     "metadata": {
      "needs_background": "light"
     },
     "output_type": "display_data"
    }
   ],
   "source": [
    "plt.scatter(df_germany['Population'], df_germany['Fertility Rate'])\n",
    "plt.xlabel('Population')\n",
    "plt.ylabel('Fertility Rate')\n",
    "plt.title('Population vs Fertility Rate in Germany')\n",
    "plt.gcf().axes[0].xaxis.get_major_formatter().set_scientific(False)\n",
    "plt.gcf().axes[0].yaxis.get_major_formatter().set_scientific(False)\n",
    "plt.show()"
   ]
  },
  {
   "cell_type": "code",
   "execution_count": 33,
   "id": "8a56937d",
   "metadata": {},
   "outputs": [],
   "source": [
    "#Testing\n",
    "df4 = df[df['Country'] == 'Cuba']\n",
    "df5 = df[df['Country'] == 'Hungary']"
   ]
  },
  {
   "cell_type": "code",
   "execution_count": 34,
   "id": "2f3698df",
   "metadata": {},
   "outputs": [
    {
     "name": "stdout",
     "output_type": "stream",
     "text": [
      "Cuba's Population Mean: 10157871.166666666\n",
      "Hungary's Population Mean: 10082571.333333334\n"
     ]
    }
   ],
   "source": [
    "print('Cuba\\'s Population Mean:', df4['Population'].mean())\n",
    "print('Hungary\\'s Population Mean:', df5['Population'].mean())"
   ]
  },
  {
   "cell_type": "code",
   "execution_count": 35,
   "id": "1321407d",
   "metadata": {},
   "outputs": [
    {
     "name": "stdout",
     "output_type": "stream",
     "text": [
      "Cuba's Population Density Mean: 95.44444444444444\n",
      "Hungary's Population Density Mean: 111.38888888888889\n"
     ]
    }
   ],
   "source": [
    "print('Cuba\\'s Population Density Mean:', df4['Density (P/Km²)'].astype(float).mean())\n",
    "print('Hungary\\'s Population Density Mean:', df5['Density (P/Km²)'].astype(float).mean())"
   ]
  },
  {
   "cell_type": "code",
   "execution_count": 36,
   "id": "d3cb3f1b",
   "metadata": {},
   "outputs": [
    {
     "name": "stdout",
     "output_type": "stream",
     "text": [
      "Hungary's Mean Fertility Rate: 1.7072222222222222\n"
     ]
    },
    {
     "name": "stderr",
     "output_type": "stream",
     "text": [
      "C:\\Users\\rafay\\AppData\\Local\\Temp\\ipykernel_10864\\4177625743.py:4: FutureWarning: Passing a negative integer is deprecated in version 1.0 and will not be supported in future version. Instead, use None to not limit the column width.\n",
      "  pd.set_option('display.max_colwidth', -1)\n"
     ]
    }
   ],
   "source": [
    "pd.set_option('display.max_rows', None)\n",
    "pd.set_option('display.max_columns', None)\n",
    "pd.set_option('display.width', None)\n",
    "pd.set_option('display.max_colwidth', -1)\n",
    "\n",
    "m = df[df['Country'] == 'Hungary']['Fertility Rate'].mean()\n",
    "print('Hungary\\'s Mean Fertility Rate:', m)"
   ]
  },
  {
   "cell_type": "code",
   "execution_count": 37,
   "id": "7b6dc7a9",
   "metadata": {},
   "outputs": [
    {
     "name": "stdout",
     "output_type": "stream",
     "text": [
      "2.3644444444444446 1.1064634824107376\n"
     ]
    }
   ],
   "source": [
    "m0 = df[df['Country'] == 'Cuba']['Fertility Rate'].mean()\n",
    "s0 = df[df['Country'] == 'Cuba']['Fertility Rate'].std()\n",
    "\n",
    "print(m0, s0)"
   ]
  },
  {
   "cell_type": "code",
   "execution_count": null,
   "id": "ef5f2134",
   "metadata": {},
   "outputs": [],
   "source": []
  },
  {
   "cell_type": "code",
   "execution_count": null,
   "id": "c9e17ccc",
   "metadata": {},
   "outputs": [],
   "source": []
  },
  {
   "cell_type": "code",
   "execution_count": null,
   "id": "9dfb0815",
   "metadata": {},
   "outputs": [],
   "source": []
  }
 ],
 "metadata": {
  "kernelspec": {
   "display_name": "Python 3 (ipykernel)",
   "language": "python",
   "name": "python3"
  },
  "language_info": {
   "codemirror_mode": {
    "name": "ipython",
    "version": 3
   },
   "file_extension": ".py",
   "mimetype": "text/x-python",
   "name": "python",
   "nbconvert_exporter": "python",
   "pygments_lexer": "ipython3",
   "version": "3.10.6"
  }
 },
 "nbformat": 4,
 "nbformat_minor": 5
}
